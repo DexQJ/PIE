{
 "cells": [
  {
   "cell_type": "code",
   "execution_count": 15,
   "metadata": {},
   "outputs": [
    {
     "name": "stdout",
     "output_type": "stream",
     "text": [
      "hello2\n"
     ]
    }
   ],
   "source": [
    "print('hello2')"
   ]
  },
  {
   "cell_type": "code",
   "execution_count": null,
   "metadata": {},
   "outputs": [],
   "source": [
    "from pyxdsm.XDSM import XDSM\n",
    "\n",
    "# Styling names for the boxes\n",
    "opt = 'Optimization'\n",
    "solver = 'MDA'\n",
    "comp = 'Analysis'\n",
    "group = 'Metamodel'\n",
    "func = 'Function'\n",
    "doe = 'DOE'\n",
    "\n",
    "x = XDSM()\n",
    "\n",
    "# Add systems\n",
    "x.add_system('load', comp, 'Load')\n",
    "x.add_system('hover', comp, 'Hover')\n",
    "x.add_system('take_off', comp, 'Takeoff')\n",
    "x.add_system('propeller', comp, 'Propeller')\n",
    "x.add_system('motor', comp, 'Motor')\n",
    "x.add_system('esc', comp, 'ESC')\n",
    "x.add_system('battery', comp, 'Battery')\n",
    "x.add_system('structure', comp, 'Frame')\n",
    "\n",
    "# Add connections\n",
    "# forward\n",
    "x.connect('load', 'hover', r'M_{total}')\n",
    "x.connect('load', 'take_off', r'M_{total}')\n",
    "x.connect('hover', 'propeller', r'F_{hov}')\n",
    "x.connect('take_off', 'propeller', r'F_{to}')\n",
    "x.connect('take_off', 'structure', r'F_{to}')\n",
    "x.connect('propeller', 'motor', r'T_{to}, \\Omega_{to}, T_{hov}, \\Omega_{hov}')\n",
    "x.connect('propeller', 'structure', r'D_{pro}')\n",
    "x.connect('motor', 'esc', r'P_{to}')\n",
    "x.connect('motor', 'battery', r'P_{hov}')\n",
    "\n",
    "# feedback\n",
    "x.connect('propeller', 'load', r'M_{pro}')\n",
    "x.connect('motor', 'load', r'M_{mot}')\n",
    "x.connect('esc', 'load', r'M_{esc}')\n",
    "x.connect('battery', 'load', r'M_{bat}')\n",
    "x.connect('structure', 'load', r'M_{frame}')\n",
    "\n",
    "# Add inputs\n",
    "x.add_input('load', r'M_{pay}')\n",
    "x.add_input('hover', r'N_{pro}')\n",
    "x.add_input('take_off', r'a_{to}, N_{pro}')\n",
    "x.add_input('structure', r'N_{arm}, N_{pro,arm}')\n",
    "\n",
    "# Add outputs \n",
    "x.add_output('motor', r'V_{mot}')\n",
    "\n",
    "# Add process\n",
    "# x.add_process(['load', 'hover', 'take_off', 'propeller', 'motor', 'esc', 'battery', 'structure', 'load'], arrow=True)\n",
    "\n",
    "x.write('xdsm_multirotor_base')\n",
    "print('done')"
   ]
  },
  {
   "cell_type": "code",
   "execution_count": null,
   "metadata": {},
   "outputs": [],
   "source": [
    "print('done')"
   ]
  },
  {
   "cell_type": "code",
   "execution_count": null,
   "metadata": {},
   "outputs": [],
   "source": [
    "cds"
   ]
  },
  {
   "cell_type": "code",
   "execution_count": null,
   "metadata": {},
   "outputs": [],
   "source": []
  }
 ],
 "metadata": {
  "kernelspec": {
   "display_name": "Python 3",
   "language": "python",
   "name": "python3"
  },
  "language_info": {
   "codemirror_mode": {
    "name": "ipython",
    "version": 3
   },
   "file_extension": ".py",
   "mimetype": "text/x-python",
   "name": "python",
   "nbconvert_exporter": "python",
   "pygments_lexer": "ipython3",
   "version": "3.7.3"
  }
 },
 "nbformat": 4,
 "nbformat_minor": 2
}
